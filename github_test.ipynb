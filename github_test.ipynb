{
 "cells": [
  {
   "cell_type": "markdown",
   "metadata": {},
   "source": [
    "* 수업자료는 오늘코드의 저작권이 있는 저작물로 블로그, github 등 공개된 곳에 전체를 그대로 올리지 말아주세요.\n",
    "* 또, 수업자료 <font color=\"blue\">일부 인용할 때는 출처를 밝혀주세요.</font> 해당 내용은 멋쟁이사자처럼 AI School 박조은 강사의 자료입니다. \n",
    "* 본 학습 자료는 저작권법에 의해 복제/배포/게시/공개를 금합니다.\n",
    "\n",
    "* [Weather dataset Kaggle](https://www.kaggle.com/datasets/vijaygiitk/multiclass-weather-dataset)\n",
    "\n",
    "<img src=\"https://i.imgur.com/i6OGIEM.png\n",
    "          \">\n",
    "\n",
    "## 라이브러리 로드"
   ]
  },
  {
   "cell_type": "code",
   "execution_count": null,
   "metadata": {},
   "outputs": [],
   "source": [
    "import numpy as np\n",
    "import pandas as pd\n",
    "import matplotlib.pyplot as plt\n",
    "import seaborn as sns\n",
    "import random\n",
    "import os\n",
    "import tqdm as tqdm"
   ]
  },
  {
   "cell_type": "code",
   "execution_count": null,
   "metadata": {},
   "outputs": [],
   "source": [
    "# !pip install opencv-python\n",
    "# import cv2"
   ]
  },
  {
   "cell_type": "markdown",
   "metadata": {},
   "source": [
    "## 이미지 로드"
   ]
  },
  {
   "cell_type": "code",
   "execution_count": null,
   "metadata": {},
   "outputs": [],
   "source": [
    "# !unzip archive.zip"
   ]
  },
  {
   "cell_type": "code",
   "execution_count": null,
   "metadata": {},
   "outputs": [],
   "source": [
    "# 예측에 사용할 정답값을 폴더명을 사용해서 만들어 줍니다.\n",
    "import os\n",
    "root_dir = \"dataset/\"\n",
    "image_label = os.listdir(root_dir)\n",
    "image_label.remove(\"test.csv\")\n",
    "image_label"
   ]
  },
  {
   "cell_type": "markdown",
   "metadata": {},
   "source": [
    "## 일부 이미지 미리보기"
   ]
  },
  {
   "cell_type": "code",
   "execution_count": null,
   "metadata": {},
   "outputs": [],
   "source": [
    "fig, axes = plt.subplots(nrows=1, ncols=len(image_label), figsize=(20, 5))\n",
    "\n",
    "for i, img_label in enumerate(image_label):\n",
    "    wfiles = glob.glob(f\"{root_dir}/{img_label}/*\")\n",
    "    wfiles = sorted(wfiles)\n",
    "    \n",
    "    \n",
    "    "
   ]
  },
  {
   "cell_type": "markdown",
   "metadata": {},
   "source": [
    "## 이미지 데이터셋 만들기"
   ]
  },
  {
   "cell_type": "code",
   "execution_count": 2,
   "metadata": {},
   "outputs": [],
   "source": [
    "#  이미지 파일을  array 로 만드는 과정은 어렵기 보다는 복잡합니다.\n",
    "# * 복잡한 문제들이 대체적으로 어렵게 느껴져요.\n",
    "# * 현업을 할 때도 업무가 복잡합니다. 과정을 이해하는게 중요합니다.\n",
    "# * 작은 단위로 나눠 보는 것을 추천합니다.\n",
    "\n",
    "# 0) 목표 train, valid, test set 에 대한 X, y값 만들기!\n",
    "# 1) label 별로 각 폴더의 파일의 목록을 읽어옵니다. \n",
    "# 2) 이미지와 label  리스트를 만들어서 넣어줄 예정이에요.\n",
    "# 3) test는 폴더가 따로 있어요. 이미지를 불러올 때  test 여부를 체크해서  train, test 를 먼저 만듭니다.\n",
    "# 4) train 으로 train, valid 를 나누어 줍니다."
   ]
  },
  {
   "cell_type": "code",
   "execution_count": 1,
   "metadata": {},
   "outputs": [],
   "source": [
    "def img_read_resize(img_path):\n",
    "    img = cv2.imread(img_path)\n",
    "    img = cv2.cvtColor(img, cv2.COLOR_BGR2RGB)\n",
    "    img = cv2.resize(img, (120, 120))\n",
    "    return img"
   ]
  },
  {
   "cell_type": "code",
   "execution_count": null,
   "metadata": {},
   "outputs": [],
   "source": [
    "img_path = \"dataset/cloudy/cloudy131.jpg\"\n",
    "# plt.imread(img_path).shape\n",
    "img_read_resize(img_path).shape"
   ]
  },
  {
   "cell_type": "code",
   "execution_count": null,
   "metadata": {},
   "outputs": [],
   "source": [
    "# 전체 이미지 파일을 읽어서 list 에 담아주는 함수\n",
    "# 특정 날씨 폴더의 전체 이미지를 읽어옵니다.\n",
    "# 반복문을 통해서 이미지를 하나씩 순회하며 img_read 로 배열 형태로 변경된 이미지를 읽어옵니다.\n",
    "# img_files 리스트에 읽어온 이미지를 append 로 하나씩 추가합니다.\n",
    "# 반복문 순회가 끝나면 img_files 리스트를 반환합니다.\n",
    "\n",
    "# def img_folder_read(img_label):\n",
    "#     img_files = []\n",
    "#     labels = []\n",
    "#     return img_files, labels\n",
    "\n",
    "    "
   ]
  },
  {
   "cell_type": "code",
   "execution_count": null,
   "metadata": {},
   "outputs": [],
   "source": [
    "# x_train_img = []\n",
    "# x_test_img = []\n",
    "# y_train_img = []\n",
    "# y_test_img = []\n",
    "# tqdm 을 통해 이미지를 읽어오는 상태를 표시합니다.\n",
    "# for img_label in tqdm.tqdm(image_label):\n",
    "\n"
   ]
  },
  {
   "cell_type": "markdown",
   "metadata": {},
   "source": [
    "## x, y 값 np.array 형식으로 만들기"
   ]
  },
  {
   "cell_type": "code",
   "execution_count": null,
   "metadata": {
    "scrolled": true
   },
   "outputs": [],
   "source": [
    "# x_array\n",
    "# y_array\n"
   ]
  },
  {
   "cell_type": "markdown",
   "metadata": {},
   "source": [
    "## train, valid 나누기"
   ]
  },
  {
   "cell_type": "code",
   "execution_count": null,
   "metadata": {},
   "outputs": [],
   "source": [
    "# train_test_split\n",
    "# x_train_raw, x_valid_raw, y_train_raw, y_valid_raw\n"
   ]
  },
  {
   "cell_type": "markdown",
   "metadata": {},
   "source": [
    "## 이미지 데이터 정규화"
   ]
  },
  {
   "cell_type": "code",
   "execution_count": null,
   "metadata": {},
   "outputs": [],
   "source": [
    "# 정규화\n",
    "# x_train\n",
    "# x_valid\n",
    "# x_test"
   ]
  },
  {
   "cell_type": "code",
   "execution_count": null,
   "metadata": {},
   "outputs": [],
   "source": []
  },
  {
   "cell_type": "markdown",
   "metadata": {},
   "source": [
    "## 정답 One-hot-encoding\n",
    "* LabelBinarizer\n",
    "* [sklearn.preprocessing.LabelBinarizer — scikit-learn documentation](https://scikit-learn.org/stable/modules/generated/sklearn.preprocessing.LabelBinarizer.html)"
   ]
  },
  {
   "cell_type": "code",
   "execution_count": null,
   "metadata": {},
   "outputs": [],
   "source": [
    "# LabelBinarizer 를 사용하여 'cloudy', 'shine', 'sunrise', 'rainy', 'foggy' 형태의 분류를 숫자로 변경합니다.\n",
    "# y_test 는 정답값 비교를 할 예정이고 학습에 사용하지 않기 때문에 인코딩 하지 않아도 됩니다.\n",
    "# y_train\n",
    "# y_valid"
   ]
  },
  {
   "cell_type": "markdown",
   "metadata": {},
   "source": [
    "## 정답 빈도수"
   ]
  },
  {
   "cell_type": "code",
   "execution_count": null,
   "metadata": {},
   "outputs": [],
   "source": [
    "# 예측값의 종류별 빈도수 입니다. 250~250 개 사이에 빈도수가 분포되어 있습니다.\n"
   ]
  },
  {
   "cell_type": "markdown",
   "metadata": {},
   "source": [
    "## 층 구성\n",
    "\n",
    "<img src=\"https://d2l.ai/_images/lenet.svg\">\n",
    "* 이미지 출처 : https://d2l.ai/chapter_convolutional-neural-networks/lenet.html\n",
    "\n",
    "* [Conv2D](https://www.tensorflow.org/api_docs/python/tf/keras/layers/Conv2D)와 [MaxPooling2D](https://www.tensorflow.org/api_docs/python/tf/keras/layers/MaxPool2D) 층을 쌓는 일반적인 패턴으로 합성곱 층을 정의합니다.\n",
    " \n",
    "* CNN은 배치(batch) 크기를 제외하고 (이미지 높이, 이미지 너비, 컬러 채널) 크기의 텐서(tensor)를 입력으로 받습니다. \n",
    "* 컬러 이미지는 (R,G,B) 세 개의 채널을 가집니다. (흑백 이미지는 채널이 하나 입니다.)\n",
    "\n",
    "* 컨볼루션 과정 참고 : https://cs231n.github.io/convolutional-networks/\n",
    "\n",
    "<img src=\"https://indoml.files.wordpress.com/2018/03/one-convolution-layer1.png\" width=\"500\">\n",
    "\n",
    "* filters : 컨볼루션 필터의 수 >> 필터 수 = 특징맵 수\n",
    "* kernel_size : 컨볼루션 커널의 (행, 열)  >> 필터 사이즈\n",
    "* padding : 경계 처리 방법\n",
    "    * ‘valid’ : 유효한 영역만 출력이 됩니다. 따라서 출력 이미지 사이즈는 입력 사이즈보다 작습니다.\n",
    "    * ‘same’ : 출력 이미지 사이즈가 입력 이미지 사이즈와 동일합니다.\n",
    "* input_shape : 모델에서 첫 레이어에서 정의 (height, width, channels)\n",
    "*  activation : 활성화 함수 설정\n",
    "    * ‘linear’ : 디폴트 값, 입력뉴런과 가중치로 계산된 결과값이 그대로 출력\n",
    "    * ‘relu’ : rectifier 함수, 은닉층에 주로 사용\n",
    "    * ‘sigmoid’ : 시그모이드 함수, 이진 분류 문제에서 출력층에 주로 사용\n",
    "    * ‘softmax’ : 소프트맥스 함수, 다중 클래스 분류 문제에서 출력층에 주로 사용\n",
    "\n",
    "<img src=\"https://www.researchgate.net/profile/Hanli-Wang-2/publication/300020038/figure/fig2/AS:404961465782275@1473561745471/Toy-example-illustrating-the-drawbacks-of-max-pooling-and-average-pooling.png\">\n",
    "\n",
    "* Dense Layer: \n",
    "    * 밀집 연결(densely-connected) 또는 완전 연결(fully-connected) 층이라고 부릅니다. \n",
    "    * 첫 번째 Dense 층은 128개의 노드(또는 뉴런)를 가집니다. \n",
    "    * 마지막 층은 출력층 입니다.\n",
    "        * 소프트맥스 일 때 : n개의 노드의 소프트맥스(softmax) 층입니다. 이 층은 n개의 확률을 반환하고 반환된 값의 전체 합은 1입니다. \n",
    "        * 각 노드는 현재 이미지가 n개 클래스 중 하나에 속할 확률을 출력합니다.\n",
    "        * 시그모이드 일 때 : 둘 중 하나를 예측할 때 1개의 출력값을 출력합니다. 확률을 받아 임계값 기준으로 True, False로 나눕니다.\n",
    "    \n",
    "    \n",
    "* 출력층 :\n",
    "    * 예측 값이 n개 일 때 :  tf.keras.layers.Dense(n, activation='softmax')\n",
    "    * 예측 값이 둘 중 하나일 때 : tf.keras.layers.Dense(1, activation='sigmoid')\n",
    "    \n",
    "\n",
    "* 합성곱 신경망 : https://www.tensorflow.org/tutorials/images/cnn"
   ]
  },
  {
   "cell_type": "code",
   "execution_count": null,
   "metadata": {},
   "outputs": [],
   "source": [
    "from tensorflow.keras.models import Sequential\n",
    "from tensorflow.keras.layers import Conv2D, MaxPooling2D, Dense, Flatten"
   ]
  },
  {
   "cell_type": "code",
   "execution_count": null,
   "metadata": {},
   "outputs": [],
   "source": [
    "model = Sequential()\n",
    "# 입력층\n",
    "model.add(Conv2D(filters=16, kernel_size=(3,3), activation='relu', input_shape=(height, width, 3)))\n",
    "model.add(MaxPool2D(2,2))\n",
    "model.add(Dropout(0.2))\n",
    "\n",
    "# Fully-connected layer\n",
    "\n",
    "# 출력층\n",
    "model.add(Dense(?, activation='________'))"
   ]
  },
  {
   "cell_type": "code",
   "execution_count": null,
   "metadata": {
    "scrolled": true
   },
   "outputs": [],
   "source": [
    "# summary\n"
   ]
  },
  {
   "cell_type": "markdown",
   "metadata": {},
   "source": [
    "## compile\n",
    "\n",
    "\n",
    "모델을 훈련하기 전에 필요한 몇 가지 설정이 모델 컴파일 단계에서 추가됩니다:\n",
    "\n",
    "* 옵티마이저(Optimizer) - 데이터와 손실 함수를 바탕으로 모델의 업데이트 방법을 결정합니다.\n",
    "* 지표(Metrics) - 훈련 단계와 테스트 단계를 모니터링하기 위해 사용합니다. 다음 예에서는 올바르게 분류된 이미지의 비율인 정확도를 사용합니다.\n",
    "\n",
    "\n",
    "* 손실 함수(Loss function) - 훈련 하는 동안 모델의 오차를 측정합니다. 모델의 학습이 올바른 방향으로 향하도록 이 함수를 최소화해야 합니다. 최적의 가중치를 찾도록 해야함\n",
    "    * 회귀  : MSE, MAE\n",
    "    * 분류 : \n",
    "        * 바이너리(예측할 값의 종류가 둘 중 하나) : \n",
    "            * binary_crossentropy\n",
    "        * 멀티클래스(예측할 값의 종류가 2개 이상) : \n",
    "            * categorical_crossentropy(one-hot형태의 클래스 예: [0, 1, 0, 0])\n",
    "            * sparse_categorical_crossentropy(정답값이 0, 1, 2, 3, 4 와 같은 형태일 때)"
   ]
  },
  {
   "cell_type": "code",
   "execution_count": null,
   "metadata": {},
   "outputs": [],
   "source": [
    "# compile\n"
   ]
  },
  {
   "cell_type": "markdown",
   "metadata": {},
   "source": [
    "## fit\n",
    "\n",
    "* 배치(batch): 모델 학습에 한 번에 입력할 데이터셋\n",
    "* 에폭(epoch): 모델 학습시 전체 데이터를 학습한 횟 수\n",
    "* 스텝(step): (모델 학습의 경우) 하나의 배치를 학습한 횟 수\n",
    "* EarlyStopping: 성능이 더 이상 좋아지지 않으면 학습을 중지\n",
    "    * early_stop = EarlyStopping(monitor='val_loss', patience=2)"
   ]
  },
  {
   "cell_type": "code",
   "execution_count": null,
   "metadata": {},
   "outputs": [],
   "source": [
    "from tensorflow.keras.callbacks import EarlyStopping\n",
    "earlystop = EarlyStopping(monitor=\"val_accuracy\", patience=5, verbose=1)"
   ]
  },
  {
   "cell_type": "code",
   "execution_count": null,
   "metadata": {},
   "outputs": [],
   "source": []
  },
  {
   "cell_type": "markdown",
   "metadata": {},
   "source": [
    "## history"
   ]
  },
  {
   "cell_type": "code",
   "execution_count": null,
   "metadata": {},
   "outputs": [],
   "source": []
  },
  {
   "cell_type": "markdown",
   "metadata": {},
   "source": [
    "## predict"
   ]
  },
  {
   "cell_type": "code",
   "execution_count": null,
   "metadata": {},
   "outputs": [],
   "source": []
  },
  {
   "cell_type": "markdown",
   "metadata": {},
   "source": [
    "## 실제값과 예측값 비교"
   ]
  },
  {
   "cell_type": "code",
   "execution_count": null,
   "metadata": {},
   "outputs": [],
   "source": [
    "test = pd.read_csv(\"dataset/test.csv\")\n",
    "y_test = test[\"labels\"]"
   ]
  },
  {
   "cell_type": "code",
   "execution_count": null,
   "metadata": {},
   "outputs": [],
   "source": [
    "# 예측값과 실제값을 비교해 봅니다."
   ]
  },
  {
   "cell_type": "code",
   "execution_count": null,
   "metadata": {},
   "outputs": [],
   "source": []
  },
  {
   "cell_type": "code",
   "execution_count": null,
   "metadata": {},
   "outputs": [],
   "source": []
  },
  {
   "cell_type": "code",
   "execution_count": null,
   "metadata": {},
   "outputs": [],
   "source": []
  }
 ],
 "metadata": {
  "kernelspec": {
   "display_name": "Python 3 (ipykernel)",
   "language": "python",
   "name": "python3"
  },
  "language_info": {
   "codemirror_mode": {
    "name": "ipython",
    "version": 3
   },
   "file_extension": ".py",
   "mimetype": "text/x-python",
   "name": "python",
   "nbconvert_exporter": "python",
   "pygments_lexer": "ipython3",
   "version": "3.10.7"
  },
  "toc": {
   "base_numbering": 1,
   "nav_menu": {},
   "number_sections": true,
   "sideBar": true,
   "skip_h1_title": false,
   "title_cell": "Table of Contents",
   "title_sidebar": "Contents",
   "toc_cell": false,
   "toc_position": {},
   "toc_section_display": true,
   "toc_window_display": false
  },
  "varInspector": {
   "cols": {
    "lenName": 16,
    "lenType": 16,
    "lenVar": 40
   },
   "kernels_config": {
    "python": {
     "delete_cmd_postfix": "",
     "delete_cmd_prefix": "del ",
     "library": "var_list.py",
     "varRefreshCmd": "print(var_dic_list())"
    },
    "r": {
     "delete_cmd_postfix": ") ",
     "delete_cmd_prefix": "rm(",
     "library": "var_list.r",
     "varRefreshCmd": "cat(var_dic_list()) "
    }
   },
   "types_to_exclude": [
    "module",
    "function",
    "builtin_function_or_method",
    "instance",
    "_Feature"
   ],
   "window_display": false
  }
 },
 "nbformat": 4,
 "nbformat_minor": 4
}
