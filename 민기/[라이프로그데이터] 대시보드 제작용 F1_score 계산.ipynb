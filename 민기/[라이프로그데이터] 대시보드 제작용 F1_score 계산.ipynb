{
 "cells": [
  {
   "cell_type": "code",
   "execution_count": 1,
   "metadata": {},
   "outputs": [],
   "source": [
    "import pandas as pd \n",
    "import re\n",
    "from sklearn.metrics import f1_score"
   ]
  },
  {
   "cell_type": "code",
   "execution_count": 9,
   "metadata": {},
   "outputs": [],
   "source": [
    "label = pd.read_csv('https://raw.githubusercontent.com/yonghyeun/Dementia_Analysis/main/data/Modeling/TEST_LABEL.csv')\n",
    "predicted = pd.read_csv('https://raw.githubusercontent.com/yonghyeun/Dementia_Analysis/main/data/Modeling/TEST_PREDICTED.csv')\n",
    "\n",
    "valid_predicted = pd.read_csv('https://raw.githubusercontent.com/yonghyeun/Dementia_Analysis/main/data/Modeling/valid_PREDICTED.csv')\n",
    "valid_label = pd.read_csv('https://raw.githubusercontent.com/yonghyeun/Dementia_Analysis/main/data/Modeling/VALID_LABEL.csv')"
   ]
  },
  {
   "cell_type": "code",
   "execution_count": 10,
   "metadata": {},
   "outputs": [
    {
     "data": {
      "text/html": [
       "<div>\n",
       "<style scoped>\n",
       "    .dataframe tbody tr th:only-of-type {\n",
       "        vertical-align: middle;\n",
       "    }\n",
       "\n",
       "    .dataframe tbody tr th {\n",
       "        vertical-align: top;\n",
       "    }\n",
       "\n",
       "    .dataframe thead th {\n",
       "        text-align: right;\n",
       "    }\n",
       "</style>\n",
       "<table border=\"1\" class=\"dataframe\">\n",
       "  <thead>\n",
       "    <tr style=\"text-align: right;\">\n",
       "      <th></th>\n",
       "      <th>model</th>\n",
       "      <th>predict</th>\n",
       "    </tr>\n",
       "  </thead>\n",
       "  <tbody>\n",
       "    <tr>\n",
       "      <th>0</th>\n",
       "      <td>LogisticRegression</td>\n",
       "      <td>[0 0 0 0 0 0 0 2 0 0 1 0 0 0 0 1 1 0 1 0 0 0 0...</td>\n",
       "    </tr>\n",
       "    <tr>\n",
       "      <th>1</th>\n",
       "      <td>DecisionTreeClassifier</td>\n",
       "      <td>[0 0 0 1 0 0 0 1 0 0 0 0 0 0 1 0 0 1 1 0 0 1 1...</td>\n",
       "    </tr>\n",
       "    <tr>\n",
       "      <th>2</th>\n",
       "      <td>SVC</td>\n",
       "      <td>[0 2 0 0 0 0 0 2 0 0 1 0 0 1 0 1 1 0 0 0 1 1 0...</td>\n",
       "    </tr>\n",
       "    <tr>\n",
       "      <th>3</th>\n",
       "      <td>KNeighborsClassifier</td>\n",
       "      <td>[0 0 0 0 0 0 0 2 0 1 0 0 0 0 0 0 0 0 1 0 0 0 0...</td>\n",
       "    </tr>\n",
       "    <tr>\n",
       "      <th>4</th>\n",
       "      <td>RandomForestClassifier</td>\n",
       "      <td>[0 0 0 0 0 0 1 2 0 0 0 0 0 0 0 0 0 0 0 0 0 0 0...</td>\n",
       "    </tr>\n",
       "    <tr>\n",
       "      <th>5</th>\n",
       "      <td>XGBClassifier</td>\n",
       "      <td>[0 0 0 0 0 0 0 2 0 0 0 0 1 0 0 0 0 1 0 0 0 0 0...</td>\n",
       "    </tr>\n",
       "    <tr>\n",
       "      <th>6</th>\n",
       "      <td>LGBMClassifier</td>\n",
       "      <td>[0 0 0 0 0 0 0 2 0 0 0 0 0 0 0 0 0 0 2 0 0 0 2...</td>\n",
       "    </tr>\n",
       "    <tr>\n",
       "      <th>7</th>\n",
       "      <td>Catboost</td>\n",
       "      <td>[[0]\\n [0]\\n [0]\\n [0]\\n [0]\\n [0]\\n [0]\\n [0]...</td>\n",
       "    </tr>\n",
       "    <tr>\n",
       "      <th>8</th>\n",
       "      <td>DNN</td>\n",
       "      <td>[[0]\\n [0]\\n [0]\\n [0]\\n [0]\\n [0]\\n [0]\\n [0]...</td>\n",
       "    </tr>\n",
       "  </tbody>\n",
       "</table>\n",
       "</div>"
      ],
      "text/plain": [
       "                    model                                            predict\n",
       "0      LogisticRegression  [0 0 0 0 0 0 0 2 0 0 1 0 0 0 0 1 1 0 1 0 0 0 0...\n",
       "1  DecisionTreeClassifier  [0 0 0 1 0 0 0 1 0 0 0 0 0 0 1 0 0 1 1 0 0 1 1...\n",
       "2                     SVC  [0 2 0 0 0 0 0 2 0 0 1 0 0 1 0 1 1 0 0 0 1 1 0...\n",
       "3    KNeighborsClassifier  [0 0 0 0 0 0 0 2 0 1 0 0 0 0 0 0 0 0 1 0 0 0 0...\n",
       "4  RandomForestClassifier  [0 0 0 0 0 0 1 2 0 0 0 0 0 0 0 0 0 0 0 0 0 0 0...\n",
       "5           XGBClassifier  [0 0 0 0 0 0 0 2 0 0 0 0 1 0 0 0 0 1 0 0 0 0 0...\n",
       "6          LGBMClassifier  [0 0 0 0 0 0 0 2 0 0 0 0 0 0 0 0 0 0 2 0 0 0 2...\n",
       "7                Catboost  [[0]\\n [0]\\n [0]\\n [0]\\n [0]\\n [0]\\n [0]\\n [0]...\n",
       "8                     DNN  [[0]\\n [0]\\n [0]\\n [0]\\n [0]\\n [0]\\n [0]\\n [0]..."
      ]
     },
     "execution_count": 10,
     "metadata": {},
     "output_type": "execute_result"
    }
   ],
   "source": [
    "predicted"
   ]
  },
  {
   "cell_type": "code",
   "execution_count": 11,
   "metadata": {},
   "outputs": [],
   "source": [
    "predicted['predict'] = predicted['predict'].map(lambda x:re.sub(r'[^0-9]','',x))\n",
    "predicted['predict'] = predicted['predict'].map(lambda x: [int(_) for _ in x]) # 리스트 컴프리헨션으로 리스트 형태로 저장\n",
    "predicted['f1_score'] = predicted['predict'].map(lambda x: f1_score(label,x,average = 'micro'))"
   ]
  },
  {
   "cell_type": "code",
   "execution_count": 12,
   "metadata": {},
   "outputs": [],
   "source": [
    "valid_predicted['predict'] = valid_predicted['predict'].map(lambda x:re.sub(r'[^0-9]','',x))\n",
    "valid_predicted['predict'] = valid_predicted['predict'].map(lambda x: [int(_) for _ in x]) # 리스트 컴프리헨션으로 리스트 형태로 저장\n",
    "valid_predicted['f1_score'] = valid_predicted['predict'].map(lambda x: f1_score(valid_label,x,average = 'micro'))"
   ]
  },
  {
   "cell_type": "code",
   "execution_count": 14,
   "metadata": {},
   "outputs": [],
   "source": [
    "predicted.to_csv('test_f1_score.csv',index = False)\n",
    "valid_predicted.to_csv('valid_f1_score.csv',index = False)"
   ]
  }
 ],
 "metadata": {
  "kernelspec": {
   "display_name": "base",
   "language": "python",
   "name": "python3"
  },
  "language_info": {
   "codemirror_mode": {
    "name": "ipython",
    "version": 3
   },
   "file_extension": ".py",
   "mimetype": "text/x-python",
   "name": "python",
   "nbconvert_exporter": "python",
   "pygments_lexer": "ipython3",
   "version": "3.9.13"
  },
  "orig_nbformat": 4
 },
 "nbformat": 4,
 "nbformat_minor": 2
}
